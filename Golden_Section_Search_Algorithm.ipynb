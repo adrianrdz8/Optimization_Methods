{
  "nbformat": 4,
  "nbformat_minor": 0,
  "metadata": {
    "colab": {
      "name": "Golden_Section_Search_Algorithm.ipynb",
      "provenance": [],
      "authorship_tag": "ABX9TyPxXj1BAxAZURGSJHiZcr5r"
    },
    "kernelspec": {
      "name": "python3",
      "display_name": "Python 3"
    },
    "language_info": {
      "name": "python"
    }
  },
  "cells": [
    {
      "cell_type": "code",
      "source": [
        "import numpy as np"
      ],
      "metadata": {
        "id": "gjV9CrSSYeAe"
      },
      "execution_count": 5,
      "outputs": []
    },
    {
      "cell_type": "code",
      "execution_count": 8,
      "metadata": {
        "id": "oIUNZLWKYINk"
      },
      "outputs": [],
      "source": [
        "def gs_search(a, b, tolerance=1e-4):\n",
        "  '''\n",
        "  Golden section search algorithm:\n",
        "  a:          Lower bound\n",
        "  b:          Upper bound\n",
        "  tolerance:  Tolerance to finish the iterations\n",
        "  '''\n",
        "  iteration = 1\n",
        "  lenght = b - a\n",
        "  golden_range = (np.sqrt(5)-1)/2\n",
        "  while lenght > tolerance:\n",
        "    d = golden_range * (b - a)\n",
        "    x1 = a + d\n",
        "    x2 = b - d\n",
        "    f1 = function(x1)\n",
        "    f2 = function(x2)\n",
        "    if f1 < f2:\n",
        "      a = x2\n",
        "    else:\n",
        "      b = x1\n",
        "    iteration += 1\n",
        "    lenght = b - a\n",
        "  return a, b, iteration"
      ]
    },
    {
      "cell_type": "code",
      "source": [
        "#Function to evaluate\n",
        "def function(x):\n",
        "  f = 3*x**2 + x*10 + 5\n",
        "  return f"
      ],
      "metadata": {
        "id": "Ig6ppZslYR9b"
      },
      "execution_count": 3,
      "outputs": []
    },
    {
      "cell_type": "code",
      "source": [
        "#Testing Golden search method\n",
        "a = -50\n",
        "b = 20\n",
        "result_g = gs_search(a, b)\n",
        "print(f'The final interval using Golden search is a= {result_g[0]} and b= {result_g[1]}')\n",
        "print(f'This interval was found with a tolerance of 0.0001 after {result_g[2]} iterations')"
      ],
      "metadata": {
        "colab": {
          "base_uri": "https://localhost:8080/"
        },
        "id": "J0Kz0Y-7YUaI",
        "outputId": "6602e70f-b999-4cca-f4a5-a988edb5c083"
      },
      "execution_count": 9,
      "outputs": [
        {
          "output_type": "stream",
          "name": "stdout",
          "text": [
            "The final interval using Golden search is a= -1.666688216208861 and b= -1.6665897144210533\n",
            "This interval was found with a tolerance of 0.0001 after 29 iterations\n"
          ]
        }
      ]
    }
  ]
}