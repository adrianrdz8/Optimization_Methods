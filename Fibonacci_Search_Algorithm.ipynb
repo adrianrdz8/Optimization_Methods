{
  "nbformat": 4,
  "nbformat_minor": 0,
  "metadata": {
    "colab": {
      "name": "Fibonacci_Search_Algorithm.ipynb",
      "provenance": [],
      "authorship_tag": "ABX9TyMAq/hB6KLvGOHqIxy5vLYc"
    },
    "kernelspec": {
      "name": "python3",
      "display_name": "Python 3"
    },
    "language_info": {
      "name": "python"
    }
  },
  "cells": [
    {
      "cell_type": "markdown",
      "source": [
        "#Fibonacci Search Algorithm"
      ],
      "metadata": {
        "id": "CYii08f-XY5A"
      }
    },
    {
      "cell_type": "code",
      "execution_count": 1,
      "metadata": {
        "id": "VpWHS9pCXPXn"
      },
      "outputs": [],
      "source": [
        "#Fibonacci Calculation\n",
        "def get_fibonacci(n):\n",
        "  if n <= 0:\n",
        "    print('incorrect input')\n",
        "  elif n == 1:\n",
        "    return 0\n",
        "  elif n == 2:\n",
        "    return 1\n",
        "  else: \n",
        "    return get_fibonacci(n-1) + get_fibonacci(n-2)"
      ]
    },
    {
      "cell_type": "code",
      "source": [
        "def fibonacci_search_min(a, b, n, tolerance = 1e-4):\n",
        "  iteration = 1\n",
        "  lenght = b - a\n",
        "  #while iteration < n and lenght > tolerance:\n",
        "  while lenght > tolerance:\n",
        "    fib_value = get_fibonacci(n-iteration)/get_fibonacci(n-iteration+1)\n",
        "    x2 = a + fib_value * (b - a)\n",
        "    x1 = (a + b) - x2\n",
        "    f1 = function(x1)\n",
        "    f2 = function(x2)\n",
        "    if f1 < f2:\n",
        "      b = x2\n",
        "    else:\n",
        "      a = x1\n",
        "    lenght = abs(b - a)\n",
        "    iteration += 1\n",
        "  return a, b, iteration"
      ],
      "metadata": {
        "id": "4_ckTzG2XfCs"
      },
      "execution_count": 2,
      "outputs": []
    },
    {
      "cell_type": "code",
      "source": [
        "#Function to evaluate\n",
        "def function(x):\n",
        "  f = 3*x**2 + x*10 + 5\n",
        "  return f"
      ],
      "metadata": {
        "id": "KCfTXtMAXjRM"
      },
      "execution_count": 3,
      "outputs": []
    },
    {
      "cell_type": "markdown",
      "source": [
        "#Testing Fibonacci Search Algorithm"
      ],
      "metadata": {
        "id": "_90tzzRrXt3A"
      }
    },
    {
      "cell_type": "code",
      "source": [
        "a = -50\n",
        "b = 20\n",
        "#With a n bigger than 30 the Fibonacci time response grows exponentially. \n",
        "n = 30\n",
        "result = fibonacci_search_min(a, b, n)\n",
        "print(f'The final interval using Fibonacci search is a= {result[0]} and b= {result[1]}')\n",
        "print(f'This interval was found with a tolerance of 0.0001 after {result[2]} iterations')"
      ],
      "metadata": {
        "colab": {
          "base_uri": "https://localhost:8080/"
        },
        "id": "uGGBqDw5Xots",
        "outputId": "9cc02ca8-1e65-46ab-d359-38bd91add657"
      },
      "execution_count": 6,
      "outputs": [
        {
          "output_type": "stream",
          "name": "stdout",
          "text": [
            "The final interval using Fibonacci search is a= -1.666514335053054 and b= -1.666514335053054\n",
            "This interval was found with a tolerance of 0.0001 after 30 iterations\n"
          ]
        }
      ]
    }
  ]
}