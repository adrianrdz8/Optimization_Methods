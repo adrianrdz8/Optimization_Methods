{
  "nbformat": 4,
  "nbformat_minor": 0,
  "metadata": {
    "colab": {
      "name": "Newton_Method.ipynb",
      "provenance": [],
      "collapsed_sections": [],
      "authorship_tag": "ABX9TyPVqllrJDfPtpZs5Qqq/25J"
    },
    "kernelspec": {
      "name": "python3",
      "display_name": "Python 3"
    },
    "language_info": {
      "name": "python"
    }
  },
  "cells": [
    {
      "cell_type": "markdown",
      "source": [
        "#Newton's Method"
      ],
      "metadata": {
        "id": "aUYIQvjTSV_a"
      }
    },
    {
      "cell_type": "code",
      "execution_count": 8,
      "metadata": {
        "id": "lKhSvg-SPZ5x"
      },
      "outputs": [],
      "source": [
        "import numpy as np\n",
        "import matplotlib.pyplot as plt\n",
        "import random\n",
        "import scipy.optimize as sopt\n",
        "import sklearn.datasets\n",
        "import time"
      ]
    },
    {
      "cell_type": "code",
      "source": [
        "def newton( func, initial_x, H=None, b=None, eps=1e-5, maximum_iterations=65536, linesearch=None):\n",
        "    \"\"\" \n",
        "    Newton's Method\n",
        "    func:               the function to optimize It is called as \"value, gradient, hessian = func( x, 2 )\n",
        "    initial_x:          the starting point\n",
        "    eps:                the maximum allowed error in the resulting stepsize t\n",
        "    maximum_iterations: the maximum allowed number of iterations\n",
        "    linesearch:         the linesearch routine. Bisection recommended for 1 variable, backtracking recommended for 2 or more variables\n",
        "    \"\"\"\n",
        "\n",
        "    if eps <= 0:\n",
        "        raise ValueError(\"Epsilon must be positive\")\n",
        "    x = np.asarray( initial_x.copy() )\n",
        "    n = len(x)\n",
        "\n",
        "    #Initialization\n",
        "    values = []\n",
        "    runtimes = []\n",
        "    xs = []\n",
        "    start_time = time.time()\n",
        "    iterations = 0\n",
        "\n",
        "    #Newton's method updates\n",
        "    while True:\n",
        "\n",
        "        if H is None:\n",
        "          value, gradient, hessian = func( x , order=2 )\n",
        "          value = np.double( value )\n",
        "          gradient = np.matrix( gradient )\n",
        "          hessian = np.matrix( hessian ) \n",
        "        \n",
        "        else:\n",
        "          value, gradient, hessian = func( H, b, x, order=2)\n",
        "          value = np.double( value )\n",
        "          gradient = np.matrix( gradient )\n",
        "          gradient = gradient.reshape(n, 1)\n",
        "          hessian = np.matrix( hessian ) \n",
        "\n",
        "        #Updating the logs\n",
        "        values.append( value )\n",
        "        runtimes.append( time.time() - start_time )\n",
        "        xs.append( x.copy() )\n",
        "\n",
        "        #Newton update direction\n",
        "        direction = -1*np.linalg.inv(hessian)*gradient\n",
        "\n",
        "        #Newton decrement\n",
        "        newton_decrement = np.double(gradient.T*np.linalg.inv(hessian)*gradient)\n",
        "\n",
        "        #Termination Criteria\n",
        "        if abs(newton_decrement/2) <= eps:\n",
        "            break\n",
        "\n",
        "        if linesearch is None:\n",
        "          t = 1\n",
        "        else:\n",
        "          if H is None:\n",
        "            t = linesearch(func, x, direction)\n",
        "          else:\n",
        "            t = linesearch(func, x, direction, H, b)\n",
        "\n",
        "        #Update x\n",
        "        x = x + (t*direction.T)\n",
        "\n",
        "        iterations += 1\n",
        "        if iterations >= maximum_iterations:\n",
        "            return direction\n",
        "            raise ValueError(\"Too many iterations\")\n",
        "\n",
        "    return (x, values, runtimes, xs)"
      ],
      "metadata": {
        "id": "sS943X2XQ1wf"
      },
      "execution_count": 10,
      "outputs": []
    },
    {
      "cell_type": "code",
      "source": [
        "#Newton Method for quadratic function\n",
        "def quadratic(H, b, x, order=0):\n",
        "    \"\"\" \n",
        "    Quadratic function\n",
        "    H:              the hessian\n",
        "    b:              the gradient\n",
        "    x:              the point to evaluate the function\n",
        "    order:          Value = 0, gradient = 1, hessian = 2\n",
        "    \"\"\"\n",
        "    H = np.asmatrix(H)\n",
        "    b = np.asmatrix(b)\n",
        "    x = np.asmatrix(x)\n",
        "\n",
        "    value = 0.5 * x * H * x.T + x * b.T\n",
        "    if order == 0:\n",
        "        return value\n",
        "    elif order == 1:\n",
        "        gradient = x * H + b\n",
        "        return (value, gradient)\n",
        "    elif order == 2:\n",
        "        gradient = x * H + b\n",
        "        hessian = H\n",
        "        return (value, gradient, hessian)\n",
        "    else:\n",
        "        raise ValueError(\"The argument \\\"order\\\" should be 0, 1 or 2\")"
      ],
      "metadata": {
        "id": "BbvDbDt8Q3Co"
      },
      "execution_count": 6,
      "outputs": []
    },
    {
      "cell_type": "code",
      "source": [
        "#Exact Line Search (Bisection)\n",
        "def bisection(func, x, direction, eps=1e-3):\n",
        "    \"\"\" \n",
        "    Bisection Method\n",
        "    func:               the function to optimize It is called as \"value, gradient, hessian = func( x, 2 )\n",
        "    x:                  the point to evaluate the function\n",
        "    direction:          the direction to evaluate\n",
        "    eps:                the maximum allowed error in the resulting stepsize t\n",
        "    \"\"\"\n",
        "    a = 0\n",
        "    b = 1\n",
        "    c = (b+a)/2\n",
        "    error = abs(b-a)\n",
        "    count = 0\n",
        "    def f(t):\n",
        "      value, grad = func(x + (t*direction), 1)\n",
        "      return abs(grad)\n",
        "\n",
        "    while error > eps:\n",
        "      if f(a) < f(b):\n",
        "        b = c \n",
        "        error = abs(b-a)\n",
        "      else:\n",
        "        a = c\n",
        "        error = abs(b-a)\n",
        "      c_old = c\n",
        "      c = (b+a)/2\n",
        "      dif = abs(c - c_old)\n",
        "      if dif < eps:\n",
        "        return c\n",
        "      count += 1\n",
        "    return c"
      ],
      "metadata": {
        "id": "sYrqNvOgRPYR"
      },
      "execution_count": 5,
      "outputs": []
    },
    {
      "cell_type": "code",
      "source": [
        "#Backtracking line search\n",
        "def backtracking(func, x, direction, iterations=10, H = None, b = None, eps = 1e-5):\n",
        "    \"\"\" \n",
        "    Backtracking line search algorithm\n",
        "    func:               the function to optimize It is called as \"value, gradient, hessian = func( x, 2 )\n",
        "    x:                  the point to evaluate the function\n",
        "    direction:          the direction to evaluate\n",
        "    iterations:         the maximum number of iterations\n",
        "    H:                  the hessian (It applies only for quadratic function)\n",
        "    b:                  the gradient (It applies only for quadratic function)\n",
        "    eps:                the maximum allowed error in the resulting stepsize t\n",
        "    \"\"\"\n",
        "    alpha = 0.25\n",
        "    beta = 0.5\n",
        "    count = 0\n",
        "    t = 1\n",
        "    n = len(direction)\n",
        "    approx = -float('inf')\n",
        "    if H is None:\n",
        "      #print(func(x + t*direction))\n",
        "      while func(x + t*direction.T, order = 0) >= approx and count <= iterations:\n",
        "          val,grad = func(x, order = 1)\n",
        "          approx = val + alpha*t*grad.T*direction\n",
        "          t = t*beta\n",
        "          count += 1\n",
        "      return t \n",
        "    else: \n",
        "      test = func(H, b, x + t*direction.T, order = 0)\n",
        "      while func(H, b, x + t*direction.T, order = 0) >= approx and count <= iterations:\n",
        "          val,grad = func(H, b, x, order = 1)\n",
        "          grad = grad.reshape(n, 1)\n",
        "          approx = val + alpha*t*grad.T*direction\n",
        "          t = t*beta\n",
        "          count += 1\n",
        "      return t "
      ],
      "metadata": {
        "id": "0e3EsL_ISAnb"
      },
      "execution_count": 7,
      "outputs": []
    },
    {
      "cell_type": "markdown",
      "source": [
        "#Examples"
      ],
      "metadata": {
        "id": "vMNDC5RqSwC5"
      }
    },
    {
      "cell_type": "code",
      "source": [
        "#Function example\n",
        "def first_example_func(x, order=0):\n",
        "  x=np.asmatrix(x).T\n",
        "  value = x**4 + 16*x**2 + 18*(x-4)*np.exp(x)\n",
        "  if order==0:\n",
        "    return value\n",
        "  elif order == 1:\n",
        "    gradient = 4*x*(x**2 + 8) + (18*(np.exp(x)*(x-3)))\n",
        "    return (value, gradient)\n",
        "  elif order ==2:\n",
        "    gradient = 4*x*(x**2 + 8) + (18*(np.exp(x)*(x-3)))\n",
        "    hessian = 2*(6*x**2 + (9*np.exp(x)*(x-2)) + 16)\n",
        "    return (value, gradient, hessian)\n",
        "  else:\n",
        "    raise ValueError(\"The argument \\\"order\\\" should be 0, 1 or 2\")"
      ],
      "metadata": {
        "id": "tN2Eq-VuTCAE"
      },
      "execution_count": 13,
      "outputs": []
    },
    {
      "cell_type": "code",
      "source": [
        "#First function results\n",
        "tests = [None, bisection]\n",
        "for test in tests:\n",
        "  x, values, runtimes, xs = newton(first_example_func, [1], linesearch=test)\n",
        "\n",
        "  x_hist = []\n",
        "  for i in range(len(xs)):\n",
        "    val = xs[i].tolist()\n",
        "    if i == 0:\n",
        "      x_hist.append(val[0])\n",
        "    else:\n",
        "      x_hist.append(val[0][0])\n",
        "\n",
        "  def first_func_plot(x):\n",
        "    return x**4 + 16*x**2 + 18*(x-4)*np.exp(x)\n",
        "\n",
        "  X = np.linspace(-3, 3, 100)\n",
        "  plt.plot(X, first_func_plot(X))\n",
        "  plt.scatter(x_hist[-1], first_func_plot(x_hist[-1]))\n",
        "  #plt.plot(x_hist, example_func(np.array(x_hist)), marker='o', color='red', ls='--')\n",
        "  print(f'Optimal x after {len(xs)} iterations is {x}')\n",
        "  print(f'Optimal point found in {first_func_plot(x)}')\n",
        "  if test is None:\n",
        "    print(f'Solved in {len(xs)} steps with t=1')\n",
        "  else:\n",
        "    print(f'Solved in {len(xs)} steps with linesearch chosen from {test}')"
      ],
      "metadata": {
        "colab": {
          "base_uri": "https://localhost:8080/",
          "height": 369
        },
        "id": "oPQTHLRfTFaT",
        "outputId": "33465321-ba9d-4af8-8111-ffa59151252f"
      },
      "execution_count": 14,
      "outputs": [
        {
          "output_type": "stream",
          "name": "stdout",
          "text": [
            "Optimal x after 30 iterations is [[2.32232611]]\n",
            "Optimal point found in [[-192.62418183]]\n",
            "Solved in 30 steps with t=1\n",
            "Optimal x after 8 iterations is [[2.32250552]]\n",
            "Optimal point found in [[-192.62417928]]\n",
            "Solved in 8 steps with linesearch chosen from <function bisection at 0x7fb4e3c88f80>\n"
          ]
        },
        {
          "output_type": "display_data",
          "data": {
            "image/png": "[encoded data removed]",
            "text/plain": [
              "<Figure size 432x288 with 1 Axes>"
            ]
          },
          "metadata": {
            "needs_background": "light"
          }
        }
      ]
    },
    {
      "cell_type": "code",
      "source": [
        "#Boyd Function\n",
        "def boyd_example_func(x, order=0):\n",
        "  a=np.matrix('1  3')\n",
        "  b=np.matrix('1  -3')\n",
        "  c=np.matrix('-1  0')\n",
        "  x=np.asmatrix(x).T\n",
        "\n",
        "  value = np.exp(a*x-0.1)+np.exp(b*x-0.1)+np.exp(c*x-0.1)\n",
        "  if order==0:\n",
        "      return value\n",
        "  elif order==1:\n",
        "      gradient = (a.T*np.exp(a*x-0.1)) + (b.T*np.exp(b*x-0.1)) + (c.T*np.exp(c*x-0.1))\n",
        "      return (value, gradient)\n",
        "  elif order==2:\n",
        "      gradient = (a.T*np.exp(a*x-0.1)) + (b.T*np.exp(b*x-0.1)) + (c.T*np.exp(c*x-0.1))\n",
        "      #hessian = a.T*a + b.T*b + c.T*c\n",
        "      hessian = a.T*a*np.exp(a*x-0.1).item() + (b.T*b*np.exp(b*x-0.1).item()) + (c.T*c*np.exp(c*x-0.1).item())\n",
        "      return (value, gradient, hessian)\n",
        "  else:\n",
        "        raise ValueError(\"The argument \\\"order\\\" should be 0, 1 or 2\")"
      ],
      "metadata": {
        "id": "GmHIqhOISr-0"
      },
      "execution_count": 11,
      "outputs": []
    },
    {
      "cell_type": "code",
      "source": [
        "tests = [None, backtracking]\n",
        "for test in tests:\n",
        "  x, values, runtimes, xs = newton(boyd_example_func, [3, 3], linesearch=test)\n",
        "\n",
        "  x_hist = []\n",
        "  y_hist = []\n",
        "  for i in range(len(xs)):\n",
        "    val = xs[i].tolist()\n",
        "    if i == 0:\n",
        "      x_hist.append(val[0])\n",
        "      y_hist.append(val[1])\n",
        "    else:\n",
        "      x_hist.append(val[0][0])\n",
        "      y_hist.append(val[0][1])\n",
        "\n",
        "  def boyd_func(x):\n",
        "    a = np.array([1, 3])\n",
        "    b = np.array([1, -3])\n",
        "    c = np.array([-1, 0])\n",
        "    x = np.array(x).T\n",
        "    value = np.exp(a@x-0.1)+np.exp(b@x-0.1)+np.exp(c@x-0.1)\n",
        "    return value\n",
        "\n",
        "  MX, MY = np.meshgrid(np.linspace(-6, 4, 250), np.linspace(-2, 2, 250))\n",
        "  Z = np.array([MX, MY]).reshape(2, -1)\n",
        "  VR = boyd_func(Z.T)\n",
        "  plt.contour(MX, MY, VR.reshape(MX.shape),1000)\n",
        "  plt.plot(x_hist, y_hist)\n",
        "  print(f'Optimal x after {len(xs)} iterations is {x}')\n",
        "  print(f'Optimal point fonund in {boyd_example_func(x)}')\n",
        "  if test is None:\n",
        "    print(f'Solved in {len(xs)} steps with t=1')\n",
        "  else:\n",
        "    print(f'Solved in {len(xs)} steps with linesearch chosen from backtracking')"
      ],
      "metadata": {
        "colab": {
          "base_uri": "https://localhost:8080/",
          "height": 369
        },
        "id": "LEaUez5uSzEd",
        "outputId": "2eb162e2-57b0-4673-e369-e8cc33742b33"
      },
      "execution_count": 12,
      "outputs": [
        {
          "output_type": "stream",
          "name": "stdout",
          "text": [
            "Optimal x after 16 iterations is [[-3.46570355e-01  2.15710999e-06]]\n",
            "Optimal point fonund in [[2.5592667]]\n",
            "Solved in 16 steps with t=1\n",
            "Optimal x after 33 iterations is [[-0.34504892  0.00101645]]\n",
            "Optimal point fonund in [[2.55927563]]\n",
            "Solved in 33 steps with linesearch chosen from backtracking\n"
          ]
        },
        {
          "output_type": "display_data",
          "data": {
            "image/png": "[encoded data removed]",
            "text/plain": [
              "<Figure size 432x288 with 1 Axes>"
            ]
          },
          "metadata": {
            "needs_background": "light"
          }
        }
      ]
    },
    {
      "cell_type": "code",
      "source": [
        "#Quadratic Function\n",
        "H = [[31,3,10],[3,40,5],[2,11,8]]\n",
        "b = [60,1,9]\n",
        "x = [1, 2, 3]\n",
        "x, values, runtimes, xs = newton(quadratic, initial_x = x, H = H, b = b, linesearch=None)\n",
        "for i in range(len(xs)):\n",
        "  val = xs[i].tolist()\n",
        "  if i == 0:\n",
        "    x_hist.append(val[0])\n",
        "    y_hist.append(val[1])\n",
        "  else:\n",
        "    x_hist.append(val[0][0])\n",
        "    y_hist.append(val[0][1])\n",
        "print(f'Optimal x after {len(xs)} iterations is {x}')\n",
        "print(f'Optimal point fonund in {quadratic(H, b, x)}')"
      ],
      "metadata": {
        "colab": {
          "base_uri": "https://localhost:8080/"
        },
        "id": "3UQDrm1HTK1r",
        "outputId": "ece6271e-30fe-4c09-bdd2-6dec88db8595"
      },
      "execution_count": 15,
      "outputs": [
        {
          "output_type": "stream",
          "name": "stdout",
          "text": [
            "Optimal x after 24 iterations is [[-2.00741012 -0.30768786  1.57554622]]\n",
            "Optimal point fonund in [[-53.29112951]]\n"
          ]
        }
      ]
    }
  ]
}